{
 "cells": [
  {
   "cell_type": "code",
   "execution_count": 1,
   "id": "b49fb385-4aef-460b-888d-92fac71ad113",
   "metadata": {},
   "outputs": [
    {
     "name": "stderr",
     "output_type": "stream",
     "text": [
      "C:\\Users\\vijit\\anaconda3\\Lib\\site-packages\\pandas\\core\\arrays\\masked.py:60: UserWarning: Pandas requires version '1.3.6' or newer of 'bottleneck' (version '1.3.5' currently installed).\n",
      "  from pandas.core import (\n"
     ]
    }
   ],
   "source": [
    "#Importing required libaries\n",
    "import pandas as pd\n",
    "import numpy as np\n",
    "import seaborn as sns\n",
    "import matplotlib.pyplot as plt\n",
    "from scipy import stats as st"
   ]
  },
  {
   "cell_type": "code",
   "execution_count": 2,
   "id": "f1253f80-dd9e-4fba-8679-f6275258c8bc",
   "metadata": {},
   "outputs": [
    {
     "data": {
      "text/html": [
       "<div>\n",
       "<style scoped>\n",
       "    .dataframe tbody tr th:only-of-type {\n",
       "        vertical-align: middle;\n",
       "    }\n",
       "\n",
       "    .dataframe tbody tr th {\n",
       "        vertical-align: top;\n",
       "    }\n",
       "\n",
       "    .dataframe thead th {\n",
       "        text-align: right;\n",
       "    }\n",
       "</style>\n",
       "<table border=\"1\" class=\"dataframe\">\n",
       "  <thead>\n",
       "    <tr style=\"text-align: right;\">\n",
       "      <th></th>\n",
       "      <th>ID</th>\n",
       "      <th>Salary</th>\n",
       "      <th>DOJ</th>\n",
       "      <th>DOL</th>\n",
       "      <th>Designation</th>\n",
       "      <th>JobCity</th>\n",
       "      <th>Gender</th>\n",
       "      <th>DOB</th>\n",
       "      <th>10percentage</th>\n",
       "      <th>10board</th>\n",
       "      <th>...</th>\n",
       "      <th>ComputerScience</th>\n",
       "      <th>MechanicalEngg</th>\n",
       "      <th>ElectricalEngg</th>\n",
       "      <th>TelecomEngg</th>\n",
       "      <th>CivilEngg</th>\n",
       "      <th>conscientiousness</th>\n",
       "      <th>agreeableness</th>\n",
       "      <th>extraversion</th>\n",
       "      <th>nueroticism</th>\n",
       "      <th>openess_to_experience</th>\n",
       "    </tr>\n",
       "  </thead>\n",
       "  <tbody>\n",
       "    <tr>\n",
       "      <th>0</th>\n",
       "      <td>203097</td>\n",
       "      <td>420000</td>\n",
       "      <td>2012-06-01</td>\n",
       "      <td>present</td>\n",
       "      <td>senior quality engineer</td>\n",
       "      <td>Bangalore</td>\n",
       "      <td>f</td>\n",
       "      <td>1990-02-19</td>\n",
       "      <td>84.3</td>\n",
       "      <td>board ofsecondary education,ap</td>\n",
       "      <td>...</td>\n",
       "      <td>-1</td>\n",
       "      <td>-1</td>\n",
       "      <td>-1</td>\n",
       "      <td>-1</td>\n",
       "      <td>-1</td>\n",
       "      <td>0.9737</td>\n",
       "      <td>0.8128</td>\n",
       "      <td>0.5269</td>\n",
       "      <td>1.35490</td>\n",
       "      <td>-0.4455</td>\n",
       "    </tr>\n",
       "    <tr>\n",
       "      <th>1</th>\n",
       "      <td>579905</td>\n",
       "      <td>500000</td>\n",
       "      <td>2013-09-01</td>\n",
       "      <td>present</td>\n",
       "      <td>assistant manager</td>\n",
       "      <td>Indore</td>\n",
       "      <td>m</td>\n",
       "      <td>1989-10-04</td>\n",
       "      <td>85.4</td>\n",
       "      <td>cbse</td>\n",
       "      <td>...</td>\n",
       "      <td>-1</td>\n",
       "      <td>-1</td>\n",
       "      <td>-1</td>\n",
       "      <td>-1</td>\n",
       "      <td>-1</td>\n",
       "      <td>-0.7335</td>\n",
       "      <td>0.3789</td>\n",
       "      <td>1.2396</td>\n",
       "      <td>-0.10760</td>\n",
       "      <td>0.8637</td>\n",
       "    </tr>\n",
       "    <tr>\n",
       "      <th>2</th>\n",
       "      <td>810601</td>\n",
       "      <td>325000</td>\n",
       "      <td>2014-06-01</td>\n",
       "      <td>present</td>\n",
       "      <td>systems engineer</td>\n",
       "      <td>Chennai</td>\n",
       "      <td>f</td>\n",
       "      <td>1992-08-03</td>\n",
       "      <td>85.0</td>\n",
       "      <td>cbse</td>\n",
       "      <td>...</td>\n",
       "      <td>-1</td>\n",
       "      <td>-1</td>\n",
       "      <td>-1</td>\n",
       "      <td>-1</td>\n",
       "      <td>-1</td>\n",
       "      <td>0.2718</td>\n",
       "      <td>1.7109</td>\n",
       "      <td>0.1637</td>\n",
       "      <td>-0.86820</td>\n",
       "      <td>0.6721</td>\n",
       "    </tr>\n",
       "    <tr>\n",
       "      <th>3</th>\n",
       "      <td>267447</td>\n",
       "      <td>1100000</td>\n",
       "      <td>2011-07-01</td>\n",
       "      <td>present</td>\n",
       "      <td>senior software engineer</td>\n",
       "      <td>Gurgaon</td>\n",
       "      <td>m</td>\n",
       "      <td>1989-12-05</td>\n",
       "      <td>85.6</td>\n",
       "      <td>cbse</td>\n",
       "      <td>...</td>\n",
       "      <td>-1</td>\n",
       "      <td>-1</td>\n",
       "      <td>-1</td>\n",
       "      <td>-1</td>\n",
       "      <td>-1</td>\n",
       "      <td>0.0464</td>\n",
       "      <td>0.3448</td>\n",
       "      <td>-0.3440</td>\n",
       "      <td>-0.40780</td>\n",
       "      <td>-0.9194</td>\n",
       "    </tr>\n",
       "    <tr>\n",
       "      <th>4</th>\n",
       "      <td>343523</td>\n",
       "      <td>200000</td>\n",
       "      <td>2014-03-01</td>\n",
       "      <td>2015-03-01 00:00:00</td>\n",
       "      <td>get</td>\n",
       "      <td>Manesar</td>\n",
       "      <td>m</td>\n",
       "      <td>1991-02-27</td>\n",
       "      <td>78.0</td>\n",
       "      <td>cbse</td>\n",
       "      <td>...</td>\n",
       "      <td>-1</td>\n",
       "      <td>-1</td>\n",
       "      <td>-1</td>\n",
       "      <td>-1</td>\n",
       "      <td>-1</td>\n",
       "      <td>-0.8810</td>\n",
       "      <td>-0.2793</td>\n",
       "      <td>-1.0697</td>\n",
       "      <td>0.09163</td>\n",
       "      <td>-0.1295</td>\n",
       "    </tr>\n",
       "  </tbody>\n",
       "</table>\n",
       "<p>5 rows × 38 columns</p>\n",
       "</div>"
      ],
      "text/plain": [
       "       ID   Salary        DOJ                  DOL               Designation  \\\n",
       "0  203097   420000 2012-06-01              present   senior quality engineer   \n",
       "1  579905   500000 2013-09-01              present         assistant manager   \n",
       "2  810601   325000 2014-06-01              present          systems engineer   \n",
       "3  267447  1100000 2011-07-01              present  senior software engineer   \n",
       "4  343523   200000 2014-03-01  2015-03-01 00:00:00                       get   \n",
       "\n",
       "     JobCity Gender        DOB  10percentage                         10board  \\\n",
       "0  Bangalore      f 1990-02-19          84.3  board ofsecondary education,ap   \n",
       "1     Indore      m 1989-10-04          85.4                            cbse   \n",
       "2    Chennai      f 1992-08-03          85.0                            cbse   \n",
       "3    Gurgaon      m 1989-12-05          85.6                            cbse   \n",
       "4    Manesar      m 1991-02-27          78.0                            cbse   \n",
       "\n",
       "   ...  ComputerScience  MechanicalEngg ElectricalEngg  TelecomEngg  \\\n",
       "0  ...               -1              -1             -1           -1   \n",
       "1  ...               -1              -1             -1           -1   \n",
       "2  ...               -1              -1             -1           -1   \n",
       "3  ...               -1              -1             -1           -1   \n",
       "4  ...               -1              -1             -1           -1   \n",
       "\n",
       "   CivilEngg conscientiousness agreeableness  extraversion  nueroticism  \\\n",
       "0         -1            0.9737        0.8128        0.5269      1.35490   \n",
       "1         -1           -0.7335        0.3789        1.2396     -0.10760   \n",
       "2         -1            0.2718        1.7109        0.1637     -0.86820   \n",
       "3         -1            0.0464        0.3448       -0.3440     -0.40780   \n",
       "4         -1           -0.8810       -0.2793       -1.0697      0.09163   \n",
       "\n",
       "   openess_to_experience  \n",
       "0                -0.4455  \n",
       "1                 0.8637  \n",
       "2                 0.6721  \n",
       "3                -0.9194  \n",
       "4                -0.1295  \n",
       "\n",
       "[5 rows x 38 columns]"
      ]
     },
     "execution_count": 2,
     "metadata": {},
     "output_type": "execute_result"
    }
   ],
   "source": [
    "# Reading the .xlsx file\n",
    "df=pd.read_excel(r\"C:\\Users\\vijit\\Downloads\\data (2).xlsx\")\n",
    "df.drop(\"Unnamed: 0\",axis=1,inplace=True)\n",
    "df.head()"
   ]
  },
  {
   "cell_type": "code",
   "execution_count": 3,
   "id": "c1c7c0fd-ee34-4301-83bd-98c8b68d3059",
   "metadata": {},
   "outputs": [
    {
     "data": {
      "text/plain": [
       "(3998, 38)"
      ]
     },
     "execution_count": 3,
     "metadata": {},
     "output_type": "execute_result"
    }
   ],
   "source": [
    "#Shape of the given data\n",
    "df.shape"
   ]
  },
  {
   "cell_type": "code",
   "execution_count": 4,
   "id": "36d4dae1-10e5-430a-b34f-dbc707a03b97",
   "metadata": {},
   "outputs": [
    {
     "name": "stdout",
     "output_type": "stream",
     "text": [
      "<class 'pandas.core.frame.DataFrame'>\n",
      "RangeIndex: 3998 entries, 0 to 3997\n",
      "Data columns (total 38 columns):\n",
      " #   Column                 Non-Null Count  Dtype         \n",
      "---  ------                 --------------  -----         \n",
      " 0   ID                     3998 non-null   int64         \n",
      " 1   Salary                 3998 non-null   int64         \n",
      " 2   DOJ                    3998 non-null   datetime64[ns]\n",
      " 3   DOL                    3998 non-null   object        \n",
      " 4   Designation            3998 non-null   object        \n",
      " 5   JobCity                3998 non-null   object        \n",
      " 6   Gender                 3998 non-null   object        \n",
      " 7   DOB                    3998 non-null   datetime64[ns]\n",
      " 8   10percentage           3998 non-null   float64       \n",
      " 9   10board                3998 non-null   object        \n",
      " 10  12graduation           3998 non-null   int64         \n",
      " 11  12percentage           3998 non-null   float64       \n",
      " 12  12board                3998 non-null   object        \n",
      " 13  CollegeID              3998 non-null   int64         \n",
      " 14  CollegeTier            3998 non-null   int64         \n",
      " 15  Degree                 3998 non-null   object        \n",
      " 16  Specialization         3998 non-null   object        \n",
      " 17  collegeGPA             3998 non-null   float64       \n",
      " 18  CollegeCityID          3998 non-null   int64         \n",
      " 19  CollegeCityTier        3998 non-null   int64         \n",
      " 20  CollegeState           3998 non-null   object        \n",
      " 21  GraduationYear         3998 non-null   int64         \n",
      " 22  English                3998 non-null   int64         \n",
      " 23  Logical                3998 non-null   int64         \n",
      " 24  Quant                  3998 non-null   int64         \n",
      " 25  Domain                 3998 non-null   float64       \n",
      " 26  ComputerProgramming    3998 non-null   int64         \n",
      " 27  ElectronicsAndSemicon  3998 non-null   int64         \n",
      " 28  ComputerScience        3998 non-null   int64         \n",
      " 29  MechanicalEngg         3998 non-null   int64         \n",
      " 30  ElectricalEngg         3998 non-null   int64         \n",
      " 31  TelecomEngg            3998 non-null   int64         \n",
      " 32  CivilEngg              3998 non-null   int64         \n",
      " 33  conscientiousness      3998 non-null   float64       \n",
      " 34  agreeableness          3998 non-null   float64       \n",
      " 35  extraversion           3998 non-null   float64       \n",
      " 36  nueroticism            3998 non-null   float64       \n",
      " 37  openess_to_experience  3998 non-null   float64       \n",
      "dtypes: datetime64[ns](2), float64(9), int64(18), object(9)\n",
      "memory usage: 1.2+ MB\n"
     ]
    }
   ],
   "source": [
    "# Information about the AMCAT data\n",
    "df.info()"
   ]
  },
  {
   "cell_type": "markdown",
   "id": "1d66dbbf-d5c3-48ba-9c8a-13e37ec4cbc7",
   "metadata": {},
   "source": [
    "# Exploratory Data Analysis\n",
    "Getting the insights from the data which includes\n",
    "- Missing values\n",
    "- Duplicated values\n",
    "- Ouliers\n",
    "- Distributions\n",
    "- Relationships"
   ]
  },
  {
   "cell_type": "code",
   "execution_count": 5,
   "id": "bf1a034a-3266-463d-b580-cf1fa6ef6b56",
   "metadata": {},
   "outputs": [
    {
     "data": {
      "text/plain": [
       "ID                       0\n",
       "Salary                   0\n",
       "DOJ                      0\n",
       "DOL                      0\n",
       "Designation              0\n",
       "JobCity                  0\n",
       "Gender                   0\n",
       "DOB                      0\n",
       "10percentage             0\n",
       "10board                  0\n",
       "12graduation             0\n",
       "12percentage             0\n",
       "12board                  0\n",
       "CollegeID                0\n",
       "CollegeTier              0\n",
       "Degree                   0\n",
       "Specialization           0\n",
       "collegeGPA               0\n",
       "CollegeCityID            0\n",
       "CollegeCityTier          0\n",
       "CollegeState             0\n",
       "GraduationYear           0\n",
       "English                  0\n",
       "Logical                  0\n",
       "Quant                    0\n",
       "Domain                   0\n",
       "ComputerProgramming      0\n",
       "ElectronicsAndSemicon    0\n",
       "ComputerScience          0\n",
       "MechanicalEngg           0\n",
       "ElectricalEngg           0\n",
       "TelecomEngg              0\n",
       "CivilEngg                0\n",
       "conscientiousness        0\n",
       "agreeableness            0\n",
       "extraversion             0\n",
       "nueroticism              0\n",
       "openess_to_experience    0\n",
       "dtype: int64"
      ]
     },
     "execution_count": 5,
     "metadata": {},
     "output_type": "execute_result"
    }
   ],
   "source": [
    "# Chacking missing values\n",
    "df.isna().sum()"
   ]
  },
  {
   "cell_type": "code",
   "execution_count": 6,
   "id": "facde745-5206-436a-8ee1-a3efdb003230",
   "metadata": {},
   "outputs": [
    {
     "data": {
      "text/plain": [
       "0"
      ]
     },
     "execution_count": 6,
     "metadata": {},
     "output_type": "execute_result"
    }
   ],
   "source": [
    "# Chacking duplicated values\n",
    "df.duplicated().sum()"
   ]
  },
  {
   "cell_type": "markdown",
   "id": "bc0185ab-8e09-4596-b7ad-45dd54204585",
   "metadata": {},
   "source": [
    "# Univariate Analysis\n",
    "- Analysing the data using single feature/variable."
   ]
  },
  {
   "cell_type": "code",
   "execution_count": 7,
   "id": "2e766da7-be54-4017-8a73-69ac3a946896",
   "metadata": {},
   "outputs": [
    {
     "name": "stdout",
     "output_type": "stream",
     "text": [
      "<class 'pandas.core.frame.DataFrame'>\n",
      "RangeIndex: 3998 entries, 0 to 3997\n",
      "Data columns (total 38 columns):\n",
      " #   Column                 Non-Null Count  Dtype         \n",
      "---  ------                 --------------  -----         \n",
      " 0   ID                     3998 non-null   int64         \n",
      " 1   Salary                 3998 non-null   int64         \n",
      " 2   DOJ                    3998 non-null   datetime64[ns]\n",
      " 3   DOL                    3998 non-null   object        \n",
      " 4   Designation            3998 non-null   object        \n",
      " 5   JobCity                3998 non-null   object        \n",
      " 6   Gender                 3998 non-null   object        \n",
      " 7   DOB                    3998 non-null   datetime64[ns]\n",
      " 8   10percentage           3998 non-null   float64       \n",
      " 9   10board                3998 non-null   object        \n",
      " 10  12graduation           3998 non-null   int64         \n",
      " 11  12percentage           3998 non-null   float64       \n",
      " 12  12board                3998 non-null   object        \n",
      " 13  CollegeID              3998 non-null   int64         \n",
      " 14  CollegeTier            3998 non-null   int64         \n",
      " 15  Degree                 3998 non-null   object        \n",
      " 16  Specialization         3998 non-null   object        \n",
      " 17  collegeGPA             3998 non-null   float64       \n",
      " 18  CollegeCityID          3998 non-null   int64         \n",
      " 19  CollegeCityTier        3998 non-null   int64         \n",
      " 20  CollegeState           3998 non-null   object        \n",
      " 21  GraduationYear         3998 non-null   int64         \n",
      " 22  English                3998 non-null   int64         \n",
      " 23  Logical                3998 non-null   int64         \n",
      " 24  Quant                  3998 non-null   int64         \n",
      " 25  Domain                 3998 non-null   float64       \n",
      " 26  ComputerProgramming    3998 non-null   int64         \n",
      " 27  ElectronicsAndSemicon  3998 non-null   int64         \n",
      " 28  ComputerScience        3998 non-null   int64         \n",
      " 29  MechanicalEngg         3998 non-null   int64         \n",
      " 30  ElectricalEngg         3998 non-null   int64         \n",
      " 31  TelecomEngg            3998 non-null   int64         \n",
      " 32  CivilEngg              3998 non-null   int64         \n",
      " 33  conscientiousness      3998 non-null   float64       \n",
      " 34  agreeableness          3998 non-null   float64       \n",
      " 35  extraversion           3998 non-null   float64       \n",
      " 36  nueroticism            3998 non-null   float64       \n",
      " 37  openess_to_experience  3998 non-null   float64       \n",
      "dtypes: datetime64[ns](2), float64(9), int64(18), object(9)\n",
      "memory usage: 1.2+ MB\n"
     ]
    }
   ],
   "source": [
    "df.info()"
   ]
  },
  {
   "cell_type": "markdown",
   "id": "476817ed-547e-409f-8168-d381af12271f",
   "metadata": {},
   "source": [
    "# What is the distribution of Salary"
   ]
  },
  {
   "cell_type": "code",
   "execution_count": 8,
   "id": "4b5c1b34-f60a-4e93-85b2-0d0d0800aba5",
   "metadata": {},
   "outputs": [
    {
     "data": {
      "text/html": [
       "<div>\n",
       "<style scoped>\n",
       "    .dataframe tbody tr th:only-of-type {\n",
       "        vertical-align: middle;\n",
       "    }\n",
       "\n",
       "    .dataframe tbody tr th {\n",
       "        vertical-align: top;\n",
       "    }\n",
       "\n",
       "    .dataframe thead th {\n",
       "        text-align: right;\n",
       "    }\n",
       "</style>\n",
       "<table border=\"1\" class=\"dataframe\">\n",
       "  <thead>\n",
       "    <tr style=\"text-align: right;\">\n",
       "      <th></th>\n",
       "      <th>Salary</th>\n",
       "    </tr>\n",
       "  </thead>\n",
       "  <tbody>\n",
       "    <tr>\n",
       "      <th>count</th>\n",
       "      <td>3.998000e+03</td>\n",
       "    </tr>\n",
       "    <tr>\n",
       "      <th>mean</th>\n",
       "      <td>3.076998e+05</td>\n",
       "    </tr>\n",
       "    <tr>\n",
       "      <th>std</th>\n",
       "      <td>2.127375e+05</td>\n",
       "    </tr>\n",
       "    <tr>\n",
       "      <th>min</th>\n",
       "      <td>3.500000e+04</td>\n",
       "    </tr>\n",
       "    <tr>\n",
       "      <th>25%</th>\n",
       "      <td>1.800000e+05</td>\n",
       "    </tr>\n",
       "    <tr>\n",
       "      <th>50%</th>\n",
       "      <td>3.000000e+05</td>\n",
       "    </tr>\n",
       "    <tr>\n",
       "      <th>75%</th>\n",
       "      <td>3.700000e+05</td>\n",
       "    </tr>\n",
       "    <tr>\n",
       "      <th>max</th>\n",
       "      <td>4.000000e+06</td>\n",
       "    </tr>\n",
       "  </tbody>\n",
       "</table>\n",
       "</div>"
      ],
      "text/plain": [
       "             Salary\n",
       "count  3.998000e+03\n",
       "mean   3.076998e+05\n",
       "std    2.127375e+05\n",
       "min    3.500000e+04\n",
       "25%    1.800000e+05\n",
       "50%    3.000000e+05\n",
       "75%    3.700000e+05\n",
       "max    4.000000e+06"
      ]
     },
     "execution_count": 8,
     "metadata": {},
     "output_type": "execute_result"
    }
   ],
   "source": [
    "pd.DataFrame(df[\"Salary\"].describe())"
   ]
  },
  {
   "cell_type": "code",
   "execution_count": 9,
   "id": "f8dd7758-b877-42a1-99b1-f4f335223854",
   "metadata": {},
   "outputs": [
    {
     "name": "stderr",
     "output_type": "stream",
     "text": [
      "C:\\Users\\vijit\\anaconda3\\Lib\\site-packages\\seaborn\\_oldcore.py:1119: FutureWarning: use_inf_as_na option is deprecated and will be removed in a future version. Convert inf values to NaN before operating instead.\n",
      "  with pd.option_context('mode.use_inf_as_na', True):\n"
     ]
    },
    {
     "data": {
      "image/png": "[encoded data removed]",
      "text/plain": [
       "<Figure size 640x480 with 1 Axes>"
      ]
     },
     "metadata": {},
     "output_type": "display_data"
    }
   ],
   "source": [
    "sns.kdeplot(data=df[\"Salary\"])\n",
    "plt.grid()\n",
    "plt.title(\"Distribution of Salary\")\n",
    "plt.show()"
   ]
  },
  {
   "cell_type": "markdown",
   "id": "d4ff4685-25df-4ecd-8062-f414e6cf9b7b",
   "metadata": {},
   "source": [
    "## Insights\n",
    "- In between 0 to 100000 the salaries are more compared to other salaries.\n",
    "- After 300000 there are less salries. "
   ]
  },
  {
   "cell_type": "markdown",
   "id": "ebb1e646-a789-4b32-8776-6dbdacae117e",
   "metadata": {},
   "source": [
    "# What is the average collegeGPA of students?"
   ]
  },
  {
   "cell_type": "code",
   "execution_count": 10,
   "id": "ae04d321-46fc-4ac8-bb1a-aec5e1135491",
   "metadata": {},
   "outputs": [
    {
     "data": {
      "text/plain": [
       "71.48617058529265"
      ]
     },
     "execution_count": 10,
     "metadata": {},
     "output_type": "execute_result"
    }
   ],
   "source": [
    "df[\"collegeGPA\"].mean()"
   ]
  },
  {
   "cell_type": "markdown",
   "id": "6ac0ec5a-db6c-4122-bbbb-79c082cf8166",
   "metadata": {},
   "source": [
    "# What are the counts of different JobCity values?"
   ]
  },
  {
   "cell_type": "code",
   "execution_count": 11,
   "id": "d7971db2-22d6-4a2d-a385-3a871a22b264",
   "metadata": {},
   "outputs": [
    {
     "data": {
      "text/html": [
       "<div>\n",
       "<style scoped>\n",
       "    .dataframe tbody tr th:only-of-type {\n",
       "        vertical-align: middle;\n",
       "    }\n",
       "\n",
       "    .dataframe tbody tr th {\n",
       "        vertical-align: top;\n",
       "    }\n",
       "\n",
       "    .dataframe thead th {\n",
       "        text-align: right;\n",
       "    }\n",
       "</style>\n",
       "<table border=\"1\" class=\"dataframe\">\n",
       "  <thead>\n",
       "    <tr style=\"text-align: right;\">\n",
       "      <th></th>\n",
       "      <th>count</th>\n",
       "    </tr>\n",
       "    <tr>\n",
       "      <th>JobCity</th>\n",
       "      <th></th>\n",
       "    </tr>\n",
       "  </thead>\n",
       "  <tbody>\n",
       "    <tr>\n",
       "      <th>Bangalore</th>\n",
       "      <td>627</td>\n",
       "    </tr>\n",
       "    <tr>\n",
       "      <th>-1</th>\n",
       "      <td>461</td>\n",
       "    </tr>\n",
       "    <tr>\n",
       "      <th>Noida</th>\n",
       "      <td>368</td>\n",
       "    </tr>\n",
       "    <tr>\n",
       "      <th>Hyderabad</th>\n",
       "      <td>335</td>\n",
       "    </tr>\n",
       "    <tr>\n",
       "      <th>Pune</th>\n",
       "      <td>290</td>\n",
       "    </tr>\n",
       "    <tr>\n",
       "      <th>...</th>\n",
       "      <td>...</td>\n",
       "    </tr>\n",
       "    <tr>\n",
       "      <th>Tirunelvelli</th>\n",
       "      <td>1</td>\n",
       "    </tr>\n",
       "    <tr>\n",
       "      <th>Ernakulam</th>\n",
       "      <td>1</td>\n",
       "    </tr>\n",
       "    <tr>\n",
       "      <th>Nanded</th>\n",
       "      <td>1</td>\n",
       "    </tr>\n",
       "    <tr>\n",
       "      <th>Dharmapuri</th>\n",
       "      <td>1</td>\n",
       "    </tr>\n",
       "    <tr>\n",
       "      <th>Asifabadbanglore</th>\n",
       "      <td>1</td>\n",
       "    </tr>\n",
       "  </tbody>\n",
       "</table>\n",
       "<p>339 rows × 1 columns</p>\n",
       "</div>"
      ],
      "text/plain": [
       "                  count\n",
       "JobCity                \n",
       "Bangalore           627\n",
       "-1                  461\n",
       "Noida               368\n",
       "Hyderabad           335\n",
       "Pune                290\n",
       "...                 ...\n",
       "Tirunelvelli          1\n",
       "Ernakulam             1\n",
       "Nanded                1\n",
       "Dharmapuri            1\n",
       "Asifabadbanglore      1\n",
       "\n",
       "[339 rows x 1 columns]"
      ]
     },
     "execution_count": 11,
     "metadata": {},
     "output_type": "execute_result"
    }
   ],
   "source": [
    "pd.DataFrame(df[\"JobCity\"].value_counts())"
   ]
  },
  {
   "cell_type": "markdown",
   "id": "ba35f42c-fd67-4ccd-a720-7dd7236d0e2c",
   "metadata": {},
   "source": [
    "# Which Specialization is most common among the students?"
   ]
  },
  {
   "cell_type": "code",
   "execution_count": 12,
   "id": "ad38d0f0-0955-408b-ba91-7b3d3cb9b9dd",
   "metadata": {},
   "outputs": [
    {
     "data": {
      "text/plain": [
       "Specialization\n",
       "electronics and communication engineering    880\n",
       "computer science & engineering               744\n",
       "information technology                       660\n",
       "computer engineering                         600\n",
       "computer application                         244\n",
       "mechanical engineering                       201\n",
       "electronics and electrical engineering       196\n",
       "electronics & telecommunications             121\n",
       "electrical engineering                        82\n",
       "electronics & instrumentation eng             32\n",
       "Name: count, dtype: int64"
      ]
     },
     "execution_count": 12,
     "metadata": {},
     "output_type": "execute_result"
    }
   ],
   "source": [
    "df[\"Specialization\"].value_counts().head(10)"
   ]
  },
  {
   "cell_type": "code",
   "execution_count": 13,
   "id": "c4366396-f367-4435-b3dd-3a4a6be9dffb",
   "metadata": {},
   "outputs": [
    {
     "data": {
      "text/html": [
       "<div>\n",
       "<style scoped>\n",
       "    .dataframe tbody tr th:only-of-type {\n",
       "        vertical-align: middle;\n",
       "    }\n",
       "\n",
       "    .dataframe tbody tr th {\n",
       "        vertical-align: top;\n",
       "    }\n",
       "\n",
       "    .dataframe thead th {\n",
       "        text-align: right;\n",
       "    }\n",
       "</style>\n",
       "<table border=\"1\" class=\"dataframe\">\n",
       "  <thead>\n",
       "    <tr style=\"text-align: right;\">\n",
       "      <th></th>\n",
       "      <th>count</th>\n",
       "    </tr>\n",
       "    <tr>\n",
       "      <th>Specialization</th>\n",
       "      <th></th>\n",
       "    </tr>\n",
       "  </thead>\n",
       "  <tbody>\n",
       "    <tr>\n",
       "      <th>electronics and communication engineering</th>\n",
       "      <td>880</td>\n",
       "    </tr>\n",
       "    <tr>\n",
       "      <th>computer science &amp; engineering</th>\n",
       "      <td>744</td>\n",
       "    </tr>\n",
       "    <tr>\n",
       "      <th>information technology</th>\n",
       "      <td>660</td>\n",
       "    </tr>\n",
       "    <tr>\n",
       "      <th>computer engineering</th>\n",
       "      <td>600</td>\n",
       "    </tr>\n",
       "    <tr>\n",
       "      <th>computer application</th>\n",
       "      <td>244</td>\n",
       "    </tr>\n",
       "    <tr>\n",
       "      <th>mechanical engineering</th>\n",
       "      <td>201</td>\n",
       "    </tr>\n",
       "    <tr>\n",
       "      <th>electronics and electrical engineering</th>\n",
       "      <td>196</td>\n",
       "    </tr>\n",
       "    <tr>\n",
       "      <th>electronics &amp; telecommunications</th>\n",
       "      <td>121</td>\n",
       "    </tr>\n",
       "    <tr>\n",
       "      <th>electrical engineering</th>\n",
       "      <td>82</td>\n",
       "    </tr>\n",
       "    <tr>\n",
       "      <th>electronics &amp; instrumentation eng</th>\n",
       "      <td>32</td>\n",
       "    </tr>\n",
       "  </tbody>\n",
       "</table>\n",
       "</div>"
      ],
      "text/plain": [
       "                                           count\n",
       "Specialization                                  \n",
       "electronics and communication engineering    880\n",
       "computer science & engineering               744\n",
       "information technology                       660\n",
       "computer engineering                         600\n",
       "computer application                         244\n",
       "mechanical engineering                       201\n",
       "electronics and electrical engineering       196\n",
       "electronics & telecommunications             121\n",
       "electrical engineering                        82\n",
       "electronics & instrumentation eng             32"
      ]
     },
     "execution_count": 13,
     "metadata": {},
     "output_type": "execute_result"
    }
   ],
   "source": [
    "d1=pd.DataFrame(df[\"Specialization\"].value_counts().head(10))\n",
    "d1"
   ]
  },
  {
   "cell_type": "code",
   "execution_count": 14,
   "id": "0bc4458c-dfe3-4a59-8006-91f16a2279c3",
   "metadata": {},
   "outputs": [
    {
     "ename": "IndexingError",
     "evalue": "Unalignable boolean Series provided as indexer (index of the boolean Series and of the indexed object do not match).",
     "output_type": "error",
     "traceback": [
      "\u001b[1;31m---------------------------------------------------------------------------\u001b[0m",
      "\u001b[1;31mIndexingError\u001b[0m                             Traceback (most recent call last)",
      "Cell \u001b[1;32mIn[14], line 1\u001b[0m\n\u001b[1;32m----> 1\u001b[0m sns\u001b[38;5;241m.\u001b[39mbarplot(y\u001b[38;5;241m=\u001b[39md1\u001b[38;5;241m.\u001b[39mindex,x\u001b[38;5;241m=\u001b[39md1[\u001b[38;5;124m\"\u001b[39m\u001b[38;5;124mcount\u001b[39m\u001b[38;5;124m\"\u001b[39m],hue\u001b[38;5;241m=\u001b[39md1\u001b[38;5;241m.\u001b[39mindex)\n\u001b[0;32m      2\u001b[0m plt\u001b[38;5;241m.\u001b[39mtitle(\u001b[38;5;124m\"\u001b[39m\u001b[38;5;124mDistribution of Specilization\u001b[39m\u001b[38;5;124m\"\u001b[39m)\n\u001b[0;32m      3\u001b[0m plt\u001b[38;5;241m.\u001b[39mshow()\n",
      "File \u001b[1;32m~\\anaconda3\\Lib\\site-packages\\seaborn\\categorical.py:2755\u001b[0m, in \u001b[0;36mbarplot\u001b[1;34m(data, x, y, hue, order, hue_order, estimator, errorbar, n_boot, units, seed, orient, color, palette, saturation, width, errcolor, errwidth, capsize, dodge, ci, ax, **kwargs)\u001b[0m\n\u001b[0;32m   2752\u001b[0m \u001b[38;5;28;01mif\u001b[39;00m estimator \u001b[38;5;129;01mis\u001b[39;00m \u001b[38;5;28mlen\u001b[39m:\n\u001b[0;32m   2753\u001b[0m     estimator \u001b[38;5;241m=\u001b[39m \u001b[38;5;124m\"\u001b[39m\u001b[38;5;124msize\u001b[39m\u001b[38;5;124m\"\u001b[39m\n\u001b[1;32m-> 2755\u001b[0m plotter \u001b[38;5;241m=\u001b[39m _BarPlotter(x, y, hue, data, order, hue_order,\n\u001b[0;32m   2756\u001b[0m                       estimator, errorbar, n_boot, units, seed,\n\u001b[0;32m   2757\u001b[0m                       orient, color, palette, saturation,\n\u001b[0;32m   2758\u001b[0m                       width, errcolor, errwidth, capsize, dodge)\n\u001b[0;32m   2760\u001b[0m \u001b[38;5;28;01mif\u001b[39;00m ax \u001b[38;5;129;01mis\u001b[39;00m \u001b[38;5;28;01mNone\u001b[39;00m:\n\u001b[0;32m   2761\u001b[0m     ax \u001b[38;5;241m=\u001b[39m plt\u001b[38;5;241m.\u001b[39mgca()\n",
      "File \u001b[1;32m~\\anaconda3\\Lib\\site-packages\\seaborn\\categorical.py:1533\u001b[0m, in \u001b[0;36m_BarPlotter.__init__\u001b[1;34m(self, x, y, hue, data, order, hue_order, estimator, errorbar, n_boot, units, seed, orient, color, palette, saturation, width, errcolor, errwidth, capsize, dodge)\u001b[0m\n\u001b[0;32m   1530\u001b[0m \u001b[38;5;28mself\u001b[39m\u001b[38;5;241m.\u001b[39mestablish_variables(x, y, hue, data, orient,\n\u001b[0;32m   1531\u001b[0m                          order, hue_order, units)\n\u001b[0;32m   1532\u001b[0m \u001b[38;5;28mself\u001b[39m\u001b[38;5;241m.\u001b[39mestablish_colors(color, palette, saturation)\n\u001b[1;32m-> 1533\u001b[0m \u001b[38;5;28mself\u001b[39m\u001b[38;5;241m.\u001b[39mestimate_statistic(estimator, errorbar, n_boot, seed)\n\u001b[0;32m   1535\u001b[0m \u001b[38;5;28mself\u001b[39m\u001b[38;5;241m.\u001b[39mdodge \u001b[38;5;241m=\u001b[39m dodge\n\u001b[0;32m   1536\u001b[0m \u001b[38;5;28mself\u001b[39m\u001b[38;5;241m.\u001b[39mwidth \u001b[38;5;241m=\u001b[39m width\n",
      "File \u001b[1;32m~\\anaconda3\\Lib\\site-packages\\seaborn\\categorical.py:1480\u001b[0m, in \u001b[0;36m_CategoricalStatPlotter.estimate_statistic\u001b[1;34m(self, estimator, errorbar, n_boot, seed)\u001b[0m\n\u001b[0;32m   1477\u001b[0m     \u001b[38;5;28;01mcontinue\u001b[39;00m\n\u001b[0;32m   1479\u001b[0m hue_mask \u001b[38;5;241m=\u001b[39m \u001b[38;5;28mself\u001b[39m\u001b[38;5;241m.\u001b[39mplot_hues[i] \u001b[38;5;241m==\u001b[39m hue_level\n\u001b[1;32m-> 1480\u001b[0m df \u001b[38;5;241m=\u001b[39m pd\u001b[38;5;241m.\u001b[39mDataFrame({var: group_data[hue_mask]})\n\u001b[0;32m   1481\u001b[0m \u001b[38;5;28;01mif\u001b[39;00m \u001b[38;5;28mself\u001b[39m\u001b[38;5;241m.\u001b[39mplot_units \u001b[38;5;129;01mis\u001b[39;00m \u001b[38;5;129;01mnot\u001b[39;00m \u001b[38;5;28;01mNone\u001b[39;00m:\n\u001b[0;32m   1482\u001b[0m     df[\u001b[38;5;124m\"\u001b[39m\u001b[38;5;124munits\u001b[39m\u001b[38;5;124m\"\u001b[39m] \u001b[38;5;241m=\u001b[39m \u001b[38;5;28mself\u001b[39m\u001b[38;5;241m.\u001b[39mplot_units[i][hue_mask]\n",
      "File \u001b[1;32m~\\anaconda3\\Lib\\site-packages\\pandas\\core\\series.py:1149\u001b[0m, in \u001b[0;36mSeries.__getitem__\u001b[1;34m(self, key)\u001b[0m\n\u001b[0;32m   1146\u001b[0m     \u001b[38;5;28;01mreturn\u001b[39;00m \u001b[38;5;28mself\u001b[39m\u001b[38;5;241m.\u001b[39m_getitem_slice(key)\n\u001b[0;32m   1148\u001b[0m \u001b[38;5;28;01mif\u001b[39;00m com\u001b[38;5;241m.\u001b[39mis_bool_indexer(key):\n\u001b[1;32m-> 1149\u001b[0m     key \u001b[38;5;241m=\u001b[39m check_bool_indexer(\u001b[38;5;28mself\u001b[39m\u001b[38;5;241m.\u001b[39mindex, key)\n\u001b[0;32m   1150\u001b[0m     key \u001b[38;5;241m=\u001b[39m np\u001b[38;5;241m.\u001b[39masarray(key, dtype\u001b[38;5;241m=\u001b[39m\u001b[38;5;28mbool\u001b[39m)\n\u001b[0;32m   1151\u001b[0m     \u001b[38;5;28;01mreturn\u001b[39;00m \u001b[38;5;28mself\u001b[39m\u001b[38;5;241m.\u001b[39m_get_rows_with_mask(key)\n",
      "File \u001b[1;32m~\\anaconda3\\Lib\\site-packages\\pandas\\core\\indexing.py:2662\u001b[0m, in \u001b[0;36mcheck_bool_indexer\u001b[1;34m(index, key)\u001b[0m\n\u001b[0;32m   2660\u001b[0m indexer \u001b[38;5;241m=\u001b[39m result\u001b[38;5;241m.\u001b[39mindex\u001b[38;5;241m.\u001b[39mget_indexer_for(index)\n\u001b[0;32m   2661\u001b[0m \u001b[38;5;28;01mif\u001b[39;00m \u001b[38;5;241m-\u001b[39m\u001b[38;5;241m1\u001b[39m \u001b[38;5;129;01min\u001b[39;00m indexer:\n\u001b[1;32m-> 2662\u001b[0m     \u001b[38;5;28;01mraise\u001b[39;00m IndexingError(\n\u001b[0;32m   2663\u001b[0m         \u001b[38;5;124m\"\u001b[39m\u001b[38;5;124mUnalignable boolean Series provided as \u001b[39m\u001b[38;5;124m\"\u001b[39m\n\u001b[0;32m   2664\u001b[0m         \u001b[38;5;124m\"\u001b[39m\u001b[38;5;124mindexer (index of the boolean Series and of \u001b[39m\u001b[38;5;124m\"\u001b[39m\n\u001b[0;32m   2665\u001b[0m         \u001b[38;5;124m\"\u001b[39m\u001b[38;5;124mthe indexed object do not match).\u001b[39m\u001b[38;5;124m\"\u001b[39m\n\u001b[0;32m   2666\u001b[0m     )\n\u001b[0;32m   2668\u001b[0m result \u001b[38;5;241m=\u001b[39m result\u001b[38;5;241m.\u001b[39mtake(indexer)\n\u001b[0;32m   2670\u001b[0m \u001b[38;5;66;03m# fall through for boolean\u001b[39;00m\n",
      "\u001b[1;31mIndexingError\u001b[0m: Unalignable boolean Series provided as indexer (index of the boolean Series and of the indexed object do not match)."
     ]
    }
   ],
   "source": [
    "sns.barplot(y=d1.index,x=d1[\"count\"],hue=d1.index)\n",
    "plt.title(\"Distribution of Specilization\")\n",
    "plt.show()"
   ]
  },
  {
   "cell_type": "markdown",
   "id": "7686432d-58aa-44e9-a4a7-3d2b1624ce65",
   "metadata": {},
   "source": [
    "## Insights\n",
    "- There are more electronics engineers compared to others.\n",
    "- There are less electrical,instrumentation engineers.."
   ]
  },
  {
   "cell_type": "code",
   "execution_count": null,
   "id": "79f36dbc-f825-4250-bbaf-30181a0dee04",
   "metadata": {},
   "outputs": [],
   "source": [
    "# Assuming df is your DataFrame\n",
    "# Set up the number of subplots based on the number of columns\n",
    "n_cols = len(df.columns)\n",
    "n_rows = int(np.ceil(n_cols / 3))  # 3 columns per row for better layout\n",
    "\n",
    "fig, axes = plt.subplots(n_rows, 3, figsize=(20, n_rows * 6))\n",
    "axes = axes.flatten()  # Flatten the axes array for easier indexing\n",
    "\n",
    "# Iterate over each column in the DataFrame and each subplot axis\n",
    "for i, col in enumerate(df.columns):\n",
    "    \n",
    "    # Check if the column is categorical\n",
    "    if df[col].dtype == 'object' or df[col].dtype.name == 'category':\n",
    "        # Categorical column - use countplot\n",
    "        sns.countplot(x=col, data=df, ax=axes[i])\n",
    "        axes[i].set_title(f'Distribution of {col} (Categorical)')\n",
    "        \n",
    "    # Check if the column is datetime\n",
    "    elif pd.api.types.is_datetime64_any_dtype(df[col]):\n",
    "        # Datetime column - convert to datetime and plot time distribution\n",
    "        df[col] = pd.to_datetime(df[col])\n",
    "        df[col].value_counts().sort_index().plot(ax=axes[i])\n",
    "        axes[i].set_title(f'Time Distribution of {col} (Datetime)')\n",
    "        axes[i].set_xlabel('Date')\n",
    "        axes[i].set_ylabel('Count')\n",
    "\n",
    "    # Check if the column is numerical\n",
    "    elif pd.api.types.is_numeric_dtype(df[col]):\n",
    "        # Numerical column - use histplot\n",
    "        sns.histplot(df[col], kde=True, ax=axes[i])\n",
    "        axes[i].set_title(f'Distribution of {col} (Numerical)')\n",
    "    \n",
    "    # Hide unused axes if fewer columns than subplots\n",
    "    if i >= n_cols:\n",
    "        axes[i].axis('off')\n",
    "\n",
    "# Adjust layout for better spacing between subplots\n",
    "\n",
    "plt.show()\n"
   ]
  },
  {
   "cell_type": "code",
   "execution_count": null,
   "id": "c8d1458c-b9db-4b1d-a87c-e5a9bfa7be7f",
   "metadata": {},
   "outputs": [],
   "source": [
    "for i in df.columns:\n",
    "    if df[i].dtype==\"int\" or df[i].dtype==\"float\":\n",
    "        sns.boxplot(x=df[i])\n",
    "        plt.title(\"Boxplot for {}\".format(i))\n",
    "        plt.show()"
   ]
  },
  {
   "cell_type": "code",
   "execution_count": null,
   "id": "be4fd015-51c1-48b4-b3c9-fc7608ca3d95",
   "metadata": {},
   "outputs": [],
   "source": [
    "for i in df.columns:\n",
    "    if df[i].dtype==\"object\":\n",
    "        sns.barplot(x=df[i].unique()[:10],y=df[i].value_counts()[:10])\n",
    "        plt.title(\"Distribution of {}\".format(i))\n",
    "        plt.xticks(rotation=90)\n",
    "        plt.show()\n",
    "    "
   ]
  },
  {
   "cell_type": "markdown",
   "id": "933a952f-e023-4a34-8c4d-5428bb1a0559",
   "metadata": {},
   "source": [
    "# Bivariate Analysis\n",
    "- Analysing the data using two features."
   ]
  },
  {
   "cell_type": "markdown",
   "id": "3309b52f-e15a-4ef3-9e75-398be168eae5",
   "metadata": {},
   "source": [
    "## How does collegeGPA vary across different Specialization?"
   ]
  },
  {
   "cell_type": "code",
   "execution_count": null,
   "id": "2314705f-2d5a-41c2-a84e-10284d7ae9fb",
   "metadata": {},
   "outputs": [],
   "source": [
    "g1=df.groupby(\"Specialization\")[[\"collegeGPA\"]].mean().sort_values(by=\"collegeGPA\",ascending=False)\n",
    "g1"
   ]
  },
  {
   "cell_type": "code",
   "execution_count": null,
   "id": "5cabc1e4-1c22-42e1-bd5d-ae37f47ba6c4",
   "metadata": {},
   "outputs": [],
   "source": [
    "sns.barplot(y=g1.index[:10],x=g1[\"collegeGPA\"][:10],hue=g1.index[:10])\n",
    "plt.title(\"Distribution of CollgGPA in Specialization\")\n",
    "plt.show()"
   ]
  },
  {
   "cell_type": "markdown",
   "id": "03e55b9c-fdc4-4f8c-aa21-3225a121c04b",
   "metadata": {},
   "source": [
    "## Insights\n",
    "- The Average GPA of embedded systems is more compared to others\n",
    "- There are less GPA for others,metallurgical engineering compared to others.."
   ]
  },
  {
   "cell_type": "markdown",
   "id": "f94cbd08-d9f2-4799-8c8f-cbf4bf147e9c",
   "metadata": {},
   "source": [
    "## Relationship between Gender and Salary?"
   ]
  },
  {
   "cell_type": "code",
   "execution_count": null,
   "id": "56dabe6f-2944-4087-be5a-ebe9d1cbe40d",
   "metadata": {},
   "outputs": [],
   "source": [
    "sns.boxplot(y=df[\"Gender\"],x=df[\"Salary\"],hue=df[\"Gender\"])\n",
    "plt.show()"
   ]
  },
  {
   "cell_type": "markdown",
   "id": "9f9cd0a3-eaec-4f0d-952d-a47e04e01332",
   "metadata": {},
   "source": [
    "## Does the GraduationYear impact JobCity selection?"
   ]
  },
  {
   "cell_type": "code",
   "execution_count": null,
   "id": "a50d4b99-20ab-41a0-8ad2-dae0a7ef8795",
   "metadata": {},
   "outputs": [],
   "source": [
    "g2=pd.crosstab(index=df[\"GraduationYear\"],columns=df[\"JobCity\"],margins=True,margins_name=\"Total\")\n",
    "g2"
   ]
  },
  {
   "cell_type": "markdown",
   "id": "a765b030-556f-4b56-95a5-65f6a439ac29",
   "metadata": {},
   "source": [
    "# Does Designation affect Salary?"
   ]
  },
  {
   "cell_type": "code",
   "execution_count": null,
   "id": "dd95509c-4403-4404-8cb2-e1004ea02ca5",
   "metadata": {},
   "outputs": [],
   "source": [
    "g3=df.groupby(\"Designation\")[[\"Salary\"]].mean()\n",
    "g3"
   ]
  },
  {
   "cell_type": "code",
   "execution_count": null,
   "id": "09836009-b168-41bd-a9df-61847ad9c664",
   "metadata": {},
   "outputs": [],
   "source": [
    "sns.barplot(x=g3.index[:10],y=g3[\"Salary\"][:10],hue=g3.index[:10])\n",
    "plt.xticks(rotation=90)\n",
    "plt.title(\"Distribution of Salary across Designation\") \n",
    "plt.show()"
   ]
  },
  {
   "cell_type": "markdown",
   "id": "a55e4004-b8eb-43e3-b9d1-0d4d5956f48e",
   "metadata": {},
   "source": [
    "## Insights\n",
    "- The Average salary of application develpoer is more compared to other designations.\n",
    "- There are less salaries for admin assistant and aircraft technician."
   ]
  },
  {
   "cell_type": "markdown",
   "id": "c3bed648-a333-4e56-ad91-a2e773a14611",
   "metadata": {},
   "source": [
    "# Multivariate Analysis\n",
    "- Analysing the data using more then two features."
   ]
  },
  {
   "cell_type": "markdown",
   "id": "4b093b72-9afd-40c0-b654-9772e385d2bb",
   "metadata": {},
   "source": [
    "## Does the combination of CollegeTier and Specialization influence Salary?"
   ]
  },
  {
   "cell_type": "code",
   "execution_count": null,
   "id": "e1cc6654-1f9a-4d92-92eb-943860713544",
   "metadata": {},
   "outputs": [],
   "source": [
    "g4=df.pivot_table(columns=\"CollegeTier\",index=\"Specialization\",values=\"Salary\",aggfunc=\"mean\")\n",
    "g4.head()"
   ]
  },
  {
   "cell_type": "code",
   "execution_count": null,
   "id": "98fe72c2-23a9-411a-9ecd-527501c5bc25",
   "metadata": {},
   "outputs": [],
   "source": [
    "sns.barplot(x=g4.index[:10],y=g4[1][:10],hue=g4.index[:10])\n",
    "plt.xlabel(\"Specialization\")\n",
    "plt.ylabel(\"Average Salary\")\n",
    "plt.title(\"Distribution of Salary Specialization in CollegeTier 1 \")\n",
    "plt.xticks(rotation=90)\n",
    "plt.show()"
   ]
  },
  {
   "cell_type": "markdown",
   "id": "257c79ad-2ddc-4188-9497-9e6a4dca458b",
   "metadata": {},
   "source": [
    "## Insights\n",
    "- In Collge Tier1 there are more Chemical Engineers compared to others.\n",
    "- There are less in aeuronautical,applied electronics."
   ]
  },
  {
   "cell_type": "code",
   "execution_count": null,
   "id": "602b2f09-1c88-4f67-9e85-942e1392b19b",
   "metadata": {},
   "outputs": [],
   "source": [
    "sns.barplot(y=g4.index[:10],x=g4[2][:10],hue=g4.index[:10])\n",
    "plt.ylabel(\"Specialization\")\n",
    "plt.xlabel(\"Average Salary\")\n",
    "plt.title(\"Distribution of Salary Specialization in CollegeTier 2 \")\n",
    "plt.xticks(rotation=90)\n",
    "plt.show()"
   ]
  },
  {
   "cell_type": "markdown",
   "id": "6adf2276-cb25-4446-bb49-21a9a9c655f8",
   "metadata": {},
   "source": [
    "## Insights\n",
    "- In Collge Tier1 there are less Ceramic Engineers compared to others.\n",
    "- There are more in civil,applied electronic."
   ]
  },
  {
   "cell_type": "markdown",
   "id": "23200fa9-5f2e-46b5-bc1b-4586b8ad3dc6",
   "metadata": {},
   "source": [
    "## How does Quant, Logical, and English scores collectively impact the Salary?"
   ]
  },
  {
   "cell_type": "code",
   "execution_count": null,
   "id": "56bac917-34c9-46da-a531-f15890e79ebb",
   "metadata": {},
   "outputs": [],
   "source": [
    "sns.pairplot(df, vars=['Quant', 'Logical', 'English'], hue='Salary')\n",
    "plt.show()"
   ]
  },
  {
   "cell_type": "markdown",
   "id": "8c5b937b-6a68-4641-93ed-b28805403336",
   "metadata": {},
   "source": [
    "## How do different Engineering specializations (e.g., ComputerScience, ElectronicsAndSemicon, MechanicalEngg) contribute to Salary?"
   ]
  },
  {
   "cell_type": "code",
   "execution_count": null,
   "id": "bc28098b-44b1-432e-b64d-c56bdff73b02",
   "metadata": {},
   "outputs": [],
   "source": [
    "df[['ComputerScience', 'ElectronicsAndSemicon', 'MechanicalEngg', 'Salary']].corr()"
   ]
  },
  {
   "cell_type": "code",
   "execution_count": null,
   "id": "6581b047-7d35-4642-9d84-8cd6efc017e8",
   "metadata": {},
   "outputs": [],
   "source": [
    "sns.heatmap(df[['ComputerScience', 'ElectronicsAndSemicon', 'MechanicalEngg', 'Salary']].corr(),annot=True,cmap=\"viridis\")\n",
    "plt.show()"
   ]
  },
  {
   "cell_type": "markdown",
   "id": "bbfcbab8-023e-4a0f-a79b-279569060f4a",
   "metadata": {},
   "source": [
    "## Does the combination of Gender, Specialization, and collegeGPA affect Salary?"
   ]
  },
  {
   "cell_type": "code",
   "execution_count": null,
   "id": "5351ffb3-ab7c-4439-85a8-b4aaf6228b72",
   "metadata": {},
   "outputs": [],
   "source": [
    "grouped_df=df.groupby(['Gender', 'Specialization'])[['collegeGPA', 'Salary']].mean()\n",
    "grouped_df"
   ]
  },
  {
   "cell_type": "code",
   "execution_count": null,
   "id": "b29b6a7b-c575-4264-8848-ef5ac81aae8f",
   "metadata": {},
   "outputs": [],
   "source": [
    "plt.figure(figsize=(15, 6))\n",
    "sns.barplot(x='Specialization', y='Salary', hue='Gender', data=grouped_df)\n",
    "plt.xticks(rotation=90)  # Rotate x-axis labels for readability\n",
    "plt.title('Average Salary by Gender and Specialization')\n",
    "plt.show()\n",
    "\n",
    "# Create a bar plot for collegeGPA\n",
    "plt.figure(figsize=(15, 6))\n",
    "sns.barplot(x='Specialization', y='collegeGPA', hue='Gender', data=grouped_df)\n",
    "plt.xticks(rotation=90)\n",
    "plt.title('Average College GPA by Gender and Specialization')\n",
    "plt.show()"
   ]
  },
  {
   "cell_type": "markdown",
   "id": "1bf149e7-9ae5-4e03-9f44-9aa140f7a588",
   "metadata": {},
   "source": [
    "## Times of India article dated Jan 18, 2019 states that “After doing your Computer Science Engineering if you take up jobs as a Programming Analyst, Software Engineer, Hardware Engineer and Associate Engineer you can earn up to 2.5-3 lakhs as a fresh graduate.” "
   ]
  },
  {
   "cell_type": "code",
   "execution_count": null,
   "id": "94adfe13-97e7-483c-9c41-073cbdc2c1d8",
   "metadata": {},
   "outputs": [],
   "source": [
    "from scipy import stats\n",
    "relevant_roles = ['programmer Analyst', 'software engineer', 'hardware engineer', 'associate engineer']\n",
    "filtered_df = df[df['Designation'].isin(relevant_roles)]\n",
    "salary_data = filtered_df['Salary']\n",
    "claimed_mean_salary = 2.75 * 100000  # Convert lakhs to the actual unit (e.g., 2.75 lakhs = 275000)\n",
    "t_stat, p_value = stats.ttest_1samp(salary_data, claimed_mean_salary)\n",
    "print(f\"Mean Salary of Selected Roles: {salary_data.mean():.2f}\")\n",
    "print(f\"Claimed Mean Salary: {claimed_mean_salary:.2f}\")\n",
    "print(f\"T-statistic: {t_stat:.2f}\")\n",
    "print(f\"P-value: {p_value:.4f}\")\n",
    "\n",
    "alpha = 0.05  # Set significance level\n",
    "if p_value < alpha:\n",
    "    print(\"Reject the null hypothesis: The average salary is significantly different from the claimed mean.\")\n",
    "else:\n",
    "    print(\"Fail to reject the null hypothesis: There is no significant difference between the average salary and the claimed mean.\")"
   ]
  },
  {
   "cell_type": "markdown",
   "id": "1b3b522a-3dab-468f-a455-072063daa362",
   "metadata": {},
   "source": [
    "## Is there a relationship between gender and specialization? (i.e. Does the preference of Specialisation depend on the Gender?)"
   ]
  },
  {
   "cell_type": "code",
   "execution_count": null,
   "id": "17b84bb1-9ca9-44bc-960b-a989f75fcdac",
   "metadata": {},
   "outputs": [],
   "source": [
    "from scipy import stats as st\n",
    "cont_table=pd.crosstab(index=df[\"Specialization\"],columns=df[\"Gender\"])\n",
    "Chi2_stat,p_value,dof,exp_freq=st.chi2_contingency(cont_table)\n",
    "alpha = 0.05  # Set significance level\n",
    "if p_value < alpha:\n",
    "    print(\"Reject the null hypothesis: There is a significant difference between the gender and Specialization.\")\n",
    "else:\n",
    "    print(\"Fail to reject the null hypothesis: There is no significant difference between the gender and Specialization.\")\n"
   ]
  },
  {
   "cell_type": "markdown",
   "id": "2ee6b8b9-c57e-46fc-af40-283b058f2d84",
   "metadata": {},
   "source": [
    "# Conclusion\n",
    "The analysis of the AMCAT dataset provides insightful conclusions regarding salary trends, specialization, and skill sets of fresh graduates in different roles. Here are some key takeaways:\n",
    "\n",
    "## Salary Trends:\n",
    "Based on the statistical tests conducted, the average salary for specific roles such as Programming Analyst, Software Engineer, Hardware Engineer, and Associate Engineer falls in the range mentioned in the Times of India article. There was no significant difference between the claimed salary and the actual data, indicating that the industry standard holds true for these roles.\n",
    "\n",
    "## Influence of Specialization:\n",
    "Graduates with specializations in Computer Science and IT-related fields have shown a tendency to secure higher salaries, confirming the high demand for these skills in the tech industry.\n",
    "\n",
    "## Gender Representation:\n",
    "The dataset reveals an uneven distribution of male and female graduates across various job roles, suggesting potential gender biases or disparities in certain specializations and job roles.\n",
    "\n",
    "## Skill Assessment:\n",
    "Attributes like programming, computer science, and other technical skills have a positive correlation with salary, emphasizing the importance of these skills for higher compensation. Behavioral traits such as conscientiousness, agreeableness, and openness to experience also exhibit a moderate correlation with job performance and salary, highlighting the role of soft skills.\n",
    "\n",
    "## Educational Background:\n",
    "Colleges categorized in Tier 1 are seen to produce graduates with higher salaries compared to those from Tier 2 or Tier 3 colleges. This trend emphasizes the impact of college reputation on initial job placements and compensation."
   ]
  }
 ],
 "metadata": {
  "kernelspec": {
   "display_name": "Python 3 (ipykernel)",
   "language": "python",
   "name": "python3"
  },
  "language_info": {
   "codemirror_mode": {
    "name": "ipython",
    "version": 3
   },
   "file_extension": ".py",
   "mimetype": "text/x-python",
   "name": "python",
   "nbconvert_exporter": "python",
   "pygments_lexer": "ipython3",
   "version": "3.11.5"
  }
 },
 "nbformat": 4,
 "nbformat_minor": 5
}
